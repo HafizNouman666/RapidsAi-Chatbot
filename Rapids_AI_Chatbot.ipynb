{
 "cells": [
  {
   "cell_type": "code",
   "execution_count": 2,
   "id": "b20cb8b6-609e-467b-8d53-667e0f9394fa",
   "metadata": {},
   "outputs": [],
   "source": [
    "from langchain_community.document_loaders import PyPDFLoader\n",
    "\n",
    "#Load the data\n",
    "loader = PyPDFLoader(\"Rapids_AI_Text_data.pdf\")\n",
    "data = loader.load()"
   ]
  },
  {
   "cell_type": "code",
   "execution_count": 3,
   "id": "b188355f-660b-4b9b-a263-0cf3f6a235dd",
   "metadata": {},
   "outputs": [
    {
     "data": {
      "text/plain": [
       "[Document(metadata={'source': 'Rapids_AI_Text_data.pdf', 'page': 0}, page_content='HOME PAGE  \\nRapids AI Rapidly Accesible for everyone  \\nComputer Vision  \\nObject Detection  \\nOur object detection solutions utilize advanced algorithms to identify and locate objects in images \\nor videos. With applications across industries, our technology enhances efficiency and enables \\nautomated object recognition and tracking. From object detect ion and recognition to image \\nclassification and segmentation, our solutions extract valuable insights from visual data.  \\nOur robust object detection solutions deliver precise identification and localization for diverse \\nvisual data. We help businesses unlock the full potential of visual data and accelerate their digital \\ntransformation.  \\n \\nMachine Learning  \\nNatural Language Processing  \\nOur ML solutions encompass a wide range of applications, including natural language processing \\n(NLP). By using advanced algorithms and data analysis, we develop intelligent systems to interpret \\ntextual data, enabling tasks such as sentiment analysis, langu age translation, and chatbot \\ndevelopment.  \\nFrom sentiment analysis to text classification, our NLP solutions enhance decision -making and \\nenable intelligent data processing. We empower organizations to gain a deeper understanding of \\ntheir data, improve decision -making, and deliver enhanced user expe riences.  \\nMachine Learning  \\nBioinformatics  \\nMachine learning in bioinformatics is revolutionizing the field of life sciences by enabling advanced \\nanalysis of biological data. Our expertise lies in developing ML models and algorithms tailored for \\nbioinformatics applications, such as genomic data anal ysis, protein structure prediction, drug \\nresponse prediction, and disease diagnosis.  \\nBy using state -of-the-art techniques in data mining, pattern recognition, and statistical modeling, \\nwe provide solutions that enhance the understanding of biological processes and drive discoveries \\nin healthcare and biotechnology.  \\nCustom Software Development  \\nWeb Development  \\nFor web development, our team creates innovative and user -centric websites that enhance your \\nonline presence and drive business growth. We specialize in responsive design, e -commerce '),\n",
       " Document(metadata={'source': 'Rapids_AI_Text_data.pdf', 'page': 1}, page_content='development, and custom applications, delivering tailored solutions to meet your unique \\nrequirements.  \\nOur experienced team leverages the latest technologies and follows best practices to deliver high -\\nquality, fully customized software solutions that optimize your operations and drive productivity.  \\nData Scraping  \\nData Scraping & Analysis  \\nOur data scraping projects employ advanced algorithms to extract valuable information from \\nvarious sources. With a wide range of applications, our technology enhances data acquisition and \\nenables automated extraction and analysis for improved efficiency an d accuracy.  \\nWe provide efficient extraction of information from various sources, streamlining data acquisition \\nand analysis for tailored solutions that empower businesses to unlock the full potential of web data \\nfor informed decision -making and strategic growth.  \\nOur Projects  \\nOur Tech Partners  \\nKlevre screen  \\nDense fusion  \\nSdndco  \\nWallgram  \\nAvion ai \\nAitch  \\nTechnologies  \\nOur Featured Services  \\nWith a deep understanding of industry -specific challenges, RapidsAI provides tailored software \\nsolutions that address your unique needs. Whether it’s building scalable e -commerce platforms, \\nimplementing enterprise resource planning systems, or creating dat a-driven analytics dashboards, \\nwe are committed to delivering exceptional results.  \\nWhat we do  \\n• Machine Learning  \\n• Web Development  \\n• Custom Software  \\n• Artificial Intelligence  \\nMachine Learning Solutions  '),\n",
       " Document(metadata={'source': 'Rapids_AI_Text_data.pdf', 'page': 2}, page_content='We specialize in developing machine learning models and algorithms that enable intelligent \\ndecision -making, predictive analytics, and automation for various businesses.  \\nData Analytics and Visualization  \\nWe leverage machine learning techniques to analyze and extract valuable insights from complex \\ndatasets, presenting the results through interactive visualizations.  \\nCloud Computing Solutions  \\nWe offer scalable cloud -based solutions for machine learning, providing the necessary \\ninfrastructure and resources to train and deploy models efficiently and effectively.  \\nPredictive Maintenance  \\nBy utilizing predictive analytics, audiovisual comprehension, and other ML techniques, We advise \\nyour business and provide information on system maintenance.  \\nWeb Development  \\nFrontend Development  \\nWe use core technologies for front -end development: CSS for unique design, HTML for structure & \\nlayouts, JavaScript for interactivity, ReactJS, and AngularJS as frameworks.  \\nBackend Development  \\nProgressive web apps are designed to deliver a fast, engaging, and app -like experience to users on \\nthe web. Our expert developers specialize in .net Core, ASP Net, Node JS, Java, and C#.  \\nWeb Design  \\nWe deliver responsive web design, adaptive mobile design, and user -friendly interfaces to give user \\nsatisfaction. Our specialists craft designs that provide intuitive interfaces and well -researched UX.  \\nWeb and Mobile App Development  \\nOur skilled team develops responsive web applications and mobile apps that integrate machine \\nlearning algorithms to deliver personalized and data -driven experiences.  \\n \\nCusto m Softwares  \\nAPI & System Integration  \\nTrust us for tailored software solutions that effortlessly meet your requirements. We specialize in \\nintegrating third -party APIs and services into existing applications to expand functionality.  \\nCustom Dashboard & Web Portals  \\nOur team’s expertise in custom software development ensures that your dashboard or web portal \\nmeets your specific business needs with a seamless and intuitive user experience.  '),\n",
       " Document(metadata={'source': 'Rapids_AI_Text_data.pdf', 'page': 3}, page_content='Data Management Apps  \\nOur Data Management Applications empower you to efficiently organize, process, and analyze your \\ndata, providing valuable insights for informed decision -making and improved productivity.  \\nWeb & Cloud Development  \\nWith a focus on web and cloud -based solutions, our custom software development provides the \\ncreation of scalable, secure, and user -friendly applications with the use of the latest technologies.  \\nArtificial Intelligence  \\nComputer Vision  \\nOur experts in computer vision develop applications with capabilities such as object detection, \\nimage recognition, and video analytics, empowering businesses with intelligent visual perception.  \\nNLP Text Processing  \\nWe create intelligent software solutions with capabilities like sentiment analysis, language \\ntranslation, and text classification, unlocking the power of language for enhanced insights . \\nPredictive Modeling  \\nOur experts use advanced techniques and algorithms to build powerful models. Predictive \\nmodeling equips businesses with actionable insights and data -driven decision -making capabilities \\nfor improved planning.  \\nSpeech & Voice Recognition  \\nOur advanced solutions offer voice control, transcription, and efficient voice -based command \\nexecution, enhancing user experiences and enabling intuitive interactions.  \\nPortfolio  \\nOur Featured Projects  \\n• Machine Learning  \\n• Web Development  \\n• Mobile Applications  \\n• Custom Software  \\nTestimonials  \\nHappy Client Reviews  \\nCamaron  \\n '),\n",
       " Document(metadata={'source': 'Rapids_AI_Text_data.pdf', 'page': 4}, page_content=\"RapidsAl is amazing and completed the task on time. The team is very easy to communicate with \\nand very  \\nhelpful even after delivering the order. Thank you so much! It was definitely a wonderful service.  \\n \\nOtehver  \\nVery active and quick replies. The developer of RapidsAl understood given tasks very well and also \\nhelped out  \\nwith thinking out new possible ways to solve problems. Very recommended! Thank You so much!!  \\n \\nJuan Sean  \\nWorking with RapidsAl is absolutely great, they have the commitment and the knowledge \\nnecessary for getting  \\nyour requirements done. Very responsive and polite team, don't hesitate in working with them.  \\n \\nRapidsAI  \\nMaking AI accessible for everyone,  \\n \\nWelcome to RapidsAI! We're a passionate team, transforming ideas into reality with our expertise \\nin AI -based software development.  \\n \\nContact Us  \\nPetersburg, FL 33702, Florida USA  \\n+1 (786) 884 -9033  \\ninfo@rapidsai.com  \\nQuick Links  \\nAbout Us  \\nContact Us  \\nTeam Members  \\nOur Projects  \\nPrivacy Policy  \"),\n",
       " Document(metadata={'source': 'Rapids_AI_Text_data.pdf', 'page': 5}, page_content='© 2023 RapidsAI. All Rights Reserved  \\n \\nServices  \\n• Artificial Intelligence  \\n• Machine Learning  \\n• Computer Vision  \\n• Natural Language Processing  \\n• Advance Image Processing  \\n• Bioinformatics  \\n• Web Development  \\n• Framework Development  \\n• Custom Web Applications  \\n• Content Management Systems  \\n• Business Intelligence  \\n• Mobile Development  \\n• Enterprise Solutions  \\n• Cloud Services  \\n• Custom Softwares  \\n• Data Analytics  \\n• Data Crawling  \\n• Database Management  \\n• Design Studio  \\n• UI/UX Design  \\n• Graphic Design  \\n• Logo Design  \\n• Packaging & Branding  \\n• 3d Modeling  '),\n",
       " Document(metadata={'source': 'Rapids_AI_Text_data.pdf', 'page': 6}, page_content='Machine Learning  \\nRapidsAI > Machine Learning  \\nDeep Learning  \\nUnlock valuable insights and drive innovation with our deep learning services.  \\n \\nComputer Vision  \\nEmpower your business with cutting -edge computer vision solutions with RapidsAI.  \\n \\nArtificial Intelligence  \\nUnlock the power of Artificial Intelligence for your business growth and innovation.  \\n \\nWhat We Do  \\nOur Featured Services  \\nHarness the power of our machine learning expertise to streamline operations, cut \\ncosts, and unlock valuable insights. Our dedicated R&D team combines domain \\nknowledge with cutting -edge ML technologies to optimize business processes and \\ndrive innovation.  \\n \\nAlgorithm Optimization  \\nLanguage Processing  \\nPredictive Analysis  \\nSpeech Recognition  \\nComputer Vision  \\nNeural Network  \\nVideos Surveillance  \\nOptical Character Recognition  \\n  \\n \\nComputer Vision  '),\n",
       " Document(metadata={'source': 'Rapids_AI_Text_data.pdf', 'page': 7}, page_content='RapidsAI  > Computer Vision  \\nWhy Computer vision  \\nComputer Vision AI  \\nFace Recognition Detection  \\nEfficient face recognition detection for enhanced security and streamlined authentication. Trust \\nour advanced solutions for reliable and seamless user experiences.  \\nCharacter Recognition  \\nOur Accurate character recognition techniques convert printed or handwritten text into digital \\nformat, streamlining processes and facilitating data utilization.  \\nEmotion Analysis  \\nPrecise emotion analysis technology analyzes human emotions from facial expressions, voice \\ntones, or text, providing valuable insights for enhanced user experiences and engagement.  \\nImage Processing  \\nEnhance visuals and extract valuable insights with image processing technology. Optimize data for \\napplications using our AI solutions.  \\nVideo Analytics  \\nVideo analytics in computer vision to gain valuable insights and improve operations. Enhance \\nsecurity measures and make informed decisions with our advanced solutions.  \\nText Analytics  \\nBy leveraging our custom advanced analytics capabilities, businesses can automate tasks and \\nachieve higher profit margins while improving overall efficiency.  \\nArtificial Intelligence  \\nEmpowering the Future with Artificial Intelligence Innovations  \\nCustom Development  \\nCustom Solutions for Your Unique Business Needs with RapidsAI  \\nCustom Development  \\nDecision -Making with Data Science Expertise from RapidsAI  \\nNatural Language Processing  \\nRapidsAI  > Natural Language Processing  \\nDevelop a Powerful NLP Application  \\nThat Includes  '),\n",
       " Document(metadata={'source': 'Rapids_AI_Text_data.pdf', 'page': 8}, page_content='Machine Learning  \\nMachine learning transforms Natural Language Processing, automating language tasks and \\nextracting valuable insights.  \\nInformation Extraction  \\nNLP information extraction automates data retrieval from the unstructured text for valuable \\ninsights for various businesses.  \\nSemantic Search  \\nSemantic search in NLP delivers relevant results by understanding user intent. Enhance search \\nexperiences with this advanced technique.  \\nMachine Translation  \\nMachine translation automates language translation, breaking barriers and fostering global \\ncommunication for NLP applications.  \\nSpeech Recognition  \\nSpeech recognition in NLP converts spoken language to text, enabling convenient transcription and \\nanalysis for various applications.  \\nQuestion Answering  \\nQuestion answering in NLP allows computers to provide accurate responses to user queries, \\nenhancing interactions and knowledge access.  \\nAdvance Image Processing  \\nRapidsAI  > Advance Image Processing  \\nImage enhancement  \\nEnhance your images with precision and clarity for impactful visuals.  \\nImage Classification  \\nAccurately classify and categorize images for efficient analysis.  \\nImage restoration  \\nRestore and enhance the quality of images for improved visual clarity.  \\nWhat We Do  \\nOur Featured Services  \\nWe at RapidsAI transform and manipulate images using advanced algorithms for improved visual \\noutcomes. We have a skilled team to enhance image quality, perform analysis, and extract \\nvaluable information for our customers.  \\nImage Filtering  '),\n",
       " Document(metadata={'source': 'Rapids_AI_Text_data.pdf', 'page': 9}, page_content='Image Registration  \\nImage Compression  \\nImage Restoration  \\nImage Segmentation  \\nImage Resizing  \\nImage Recognition  \\nImage Morphing  \\nBioinformatics  \\nRapidsAI  > Bioinformatics  \\nMachine Learning Expertise  \\nExperts in ML -driven bioinformatics, ensuring reliable results.  \\nData -Driven Insights  \\nUnite bioinformatics and ML for data -driven biological insights.  \\nEthical Data Handling  \\nEnsuring data security and confidentiality through ethical practices.  \\nWhat We Do  \\nOur Featured Services  \\nWelcome to our Bioinformatics Services, where we harness the power of Machine Learning to \\ndecode the complexities of biological data and provide innovative solutions for a wide range of \\nresearch and industry needs. Our team of experts combines bioinformati cs expertise with cutting -\\nedge Machine Learning techniques to empower researchers and organizations in the life sciences.  \\nGenomic Data Analysis  \\nMolecular Dynamic Simulations  \\nDrug Response Prediction  \\nBiological Image Analysis  \\nProtein Structure Prediction  \\nSystems Biology Modeling  \\nTranscriptomics Profiling  \\nRNA Expression Profiling  \\nWebdevelopment  '),\n",
       " Document(metadata={'source': 'Rapids_AI_Text_data.pdf', 'page': 10}, page_content='Framework Development  \\nRapidsAI  > Framework Development  \\nAPI Integration  \\nEfficient API development and seamless integration for enhanced functionality.  \\nCustom Development  \\nCustom Solutions for Your Unique Business Needs with RapidsAI  \\nTesting & Quality Assurance  \\nComprehensive testing and quality assurance for robust frameworks.  \\nWhat We Do  \\nOur Featured Services  \\nWith a deep understanding of industry -specific challenges, RapidsAI provides tailored \\nsoftware solutions that address your unique needs. Whether it’s building scalable e -\\ncommerce platforms, implementing enterprise resource planning systems, or creating dat a-\\ndriven analytics dashboards, we are committed to delivering exceptional results.  \\nCustom Framework Development  \\nSecurity and authentication implementation  \\nFramework customization & extensions  \\nThird -party library integration  \\nFramework Migration and Upgrade  \\nTesting and Quality Assurance  \\nAPI development and integration  \\nSupport and Maintenance  \\nCustom Web Applications  \\nRapidsAI  > Custom Web Applications  \\nCloud Based Web Development  \\nOur cloud -optimized web solutions offer flexible content and data storage options.  \\nBackend Development  \\nWe build resilient, high -performance backbone architectures for secure software operations.  \\nFrontend Development  \\nVersatile products with reusable components, cutting -edge designs, and customized UI/UX.  '),\n",
       " Document(metadata={'source': 'Rapids_AI_Text_data.pdf', 'page': 11}, page_content='What We Do  \\nOur Featured Services  \\nWe offer responsive design, e -commerce development, custom applications, and API \\nintegration as part of our web development services. With a focus on user -centric design and \\nseamless integration, we deliver tailored solutions for your unique needs.  \\nEnterprise Development  \\nResponsive Designs  \\nSaaS Products  \\nWeb Support  \\nWeb Testing  \\nCustomer support  \\nWeb Optimization  \\nAPI Integration  \\nContent Management Systems  \\nRapidsAI  > Content Management Systems  \\nE-commerce Integration  \\nSeamlessly integrate your online store with e -commerce functionality and features.  \\nAnalytics and Reporting  \\nGain valuable insights and track performance through comprehensive analytics and \\nreporting.  \\nSEO Optimization  \\nBoost your online visibility and drive organic traffic with effective SEO optimization.  \\nWhat We Do  \\nOur Featured Services  \\nRapidsAI offers comprehensive content management system (CMS) services, empowering \\nyou to effortlessly create, organize, and publish digital content on your website. Enjoy user -\\nfriendly interfaces and powerful features for efficient website management and content \\ncollaboration.  \\nContent Creation and Editing  \\nMedia Management and Integration  \\nContent Organization and Categorization  '),\n",
       " Document(metadata={'source': 'Rapids_AI_Text_data.pdf', 'page': 12}, page_content='Multilingual Support  \\nContent Publishing and Scheduling  \\nE-commerce Integration  \\nUser Management and Permissions  \\nCustomizable Themes  \\nBusiness Intelligence  \\nRapidsAI  > Business Intelligence  \\nData -Driven Decisions  \\nAccurate insights for better performance.  \\nEfficiency and Productivity  \\nStreamlined data analysis, focused tasks.  \\nEnhanced Data Security  \\nRobust protection for sensitive data.  \\nWhat We Do  \\nOur Featured Services  \\nWelcome to our Business Intelligence Tools page, where we showcase a curated selection of \\npowerful software and applications designed to transform your raw data into valuable \\ninsights. These cutting -edge tools are geared towards helping businesses of all s izes make \\ndata -driven decisions, optimize processes, and stay ahead in today’s competitive landscape.  \\nData Visualization Solutions  \\nReal -time Data Streaming  \\nAdvanced Analytics Services  \\nCloud -Based BI Solutions  \\nPredictive Modeling Tools  \\nActionable Data Insights  \\nSelf -Service BI Platforms  \\nInteractive Dashboard Design  \\nMobile Development  \\nRapidsAI  > Mobile Development  \\nFlexible  '),\n",
       " Document(metadata={'source': 'Rapids_AI_Text_data.pdf', 'page': 13}, page_content='Flexible application to run on various platforms (iOS, Android, Windows)  \\nScalable  \\nHandling the ever -growing user base for best user experience  \\nInnovative  \\nLatest technological trends and state -of-the-art solutions.  \\nUser -Friendly  \\nPrecise and clear user path and user map solution for perfect apps  \\nFeatures  \\nTransforming Ideas into Innovative Mobile Apps  \\n• Native Application  \\n• Migration services  \\n• User Analytics  \\n• QA and Testing  \\n• UI/UX Design  \\n• Cross -Platforms  \\nMobile iOS Development  \\nRobust applications designed for a wide range of Apple devices  \\nMobile Android development  \\nAndroid apps with rich features and captivating design  \\nCross -platform development  \\nCross Platform app for various mobile platforms just like native apps  \\nEnter prise Solutions  \\nCloud Services  \\nRapidsAI  > Cloud Services  \\nAPI & System Integration  \\nIntegrated systems to maximize the functionality of systems effortlessly.  \\nCustom Dashboards & Web Portal  \\nGet your customized dashboards  \\nData Management Apps  '),\n",
       " Document(metadata={'source': 'Rapids_AI_Text_data.pdf', 'page': 14}, page_content='run your business smoothly and report to custom KPIs with our help  \\nWhat We Do  \\nOur Featured Services  \\nWe offer end -to-end services that include consulting, solution development, security, integration, \\nand infrastructure management. We assess your business needs, devise a cloud strategy, develop \\nand test solutions, ensure application security, and seamlessl y integrate with other cloud and on -\\npremises applications to optimize your cloud utilization.  \\nCloud Computing Architecture  \\nCloud document management  \\nAI cloud solutions  \\nCloud backup services  \\nCloud security services  \\nCloud -native app development  \\nHybrid cloud app  \\nBig data cloud solutions  \\nCustom Softwares  \\nRapidsAI  > Custom Softwares  \\n \\nCustomized Software Solutions  \\nAt RapidsAI, we go beyond standard solutions, creating customized services that align with your \\nspecific business requirements. We meticulously select the ideal combination of technologies for \\neach project, ensuring a perfect fit.  \\nAdvanced Programmimg  \\nWeb Development  \\nDesign Solutions  \\nCustom Softwares  \\nCloud Development  \\nDB Management  \\nBackend Technologies  \\nOur Featured Services  '),\n",
       " Document(metadata={'source': 'Rapids_AI_Text_data.pdf', 'page': 15}, page_content='Recognizing the crucial role of back -end development in integrating functionality, performance, \\nand speed, we prioritize the strength of our back -end services to optimize efficiency and adapt to \\ngrowing complexity. Our dedicated team of skilled engineers s pecializes in crafting high -\\nperforming, scalable, and secure back -end solutions.  \\nJAVA  \\nNode JS  \\nAzure  \\n.NET/C#  \\nC++  \\nAWS  \\nPHP  \\nASP .Net  \\niOS  \\nPython  \\nRuby  \\nAndroid  \\nData Analytics  \\nRapidsAI  > Data Analytics  \\nData Visualization  \\nInteractive data visualization to convey insights and enhance intelligent decision -making.  \\nBig Data Analytics  \\nLeveraging advanced techniques to extract valuable insights from large -scale data.  \\nCustomer Analytics  \\nAnalyzing customer behavior and data to drive actionable insights and strategies.  \\nWhat We Do  \\nOur Featured Services  \\nHarnessing the power of data, RapidsAI offers comprehensive data analytics services. From data \\ncollection and cleansing to advanced analytics and visualization, we help businesses extract \\nvaluable insights and make data -driven decisions.  \\nBig Data Analytics  '),\n",
       " Document(metadata={'source': 'Rapids_AI_Text_data.pdf', 'page': 16}, page_content='Predictive Analytics  \\nCustomer Analytics  \\nDiagnostic Analytics  \\nText Analytics  \\nDescriptive Analytics  \\nPrescriptive Analytics  \\nData Visualization  \\nData Crawling  \\nRapidsAI  > Data Crawling  \\nData Visualization  \\nInteractive data visualization to convey insights and enhance intelligent decision -making.  \\nBig Data Analytics  \\nLeveraging advanced techniques to extract valuable insights from large -scale data.  \\nCustomer Analytics  \\nAnalyzing customer behavior and data to drive actionable insights and strategies.  \\nWhat We Do  \\nOur Featured Services  \\nHarnessing the power of data, RapidsAI offers comprehensive data analytics services. From data \\ncollection and cleansing to advanced analytics and visualization, we help businesses extract \\nvaluable insights and make data -driven decisions.  \\nBig Data Analytics  \\nPredictive Analytics  \\nCustomer Analytics  \\nDiagnostic Analytics  \\nText Analytics  \\nDescriptive Analytics  \\nPrescriptive Analytics  \\n \\nDatabase Management  \\nRapidsAI  > Database Management  '),\n",
       " Document(metadata={'source': 'Rapids_AI_Text_data.pdf', 'page': 17}, page_content='Data Visualization  \\nInteractive data visualization to convey insights and enhance intelligent decision -making.  \\nBig Data Analytics  \\nLeveraging advanced techniques to extract valuable insights from large -scale data.  \\nCustomer Analytics  \\nAnalyzing customer behavior and data to drive actionable insights and strategies.  \\nWhat We Do  \\nOur Featured Services  \\nHarnessing the power of data, RapidsAI offers comprehensive data analytics services. From data \\ncollection and cleansing to advanced analytics and visualization, we help businesses extract \\nvaluable insights and make data -driven decisions.  \\nBig Data Analytics  \\nPredictive Analytics  \\nCustomer Analytics  \\nDiagnostic Analytics  \\nText Analytics  \\nDescriptive Analytics  \\nPrescriptive Analytics  \\nData Visualization  \\nDesign Studio  \\nUI/UX Design  \\nRapidsAI  > UI/UX Design  \\nUser -Centric Approach  \\nOur designs are rooted in understanding and prioritizing the needs of your users, resulting in \\nintuitive and engaging interfaces.  \\nDesign Excellence  \\nWe take pride in creating visually stunning and polished designs that elevate your brand and leave a \\nlasting impression on users.  \\nAgile Development  '),\n",
       " Document(metadata={'source': 'Rapids_AI_Text_data.pdf', 'page': 18}, page_content='Our dynamic agile development approach ensures flexibility and rapid iterations to deliver optimal \\nresults efficiently.  \\nProven Track Record  \\nWe have a track record of successful UI/UX projects across various industries, spanning startups \\nto enterprise -level organizations.  \\nWhat We Do  \\nOur Featured Services  \\nWith a deep understanding of industry -specific challenges, RapidsAI provides tailored software \\nsolutions that address your unique needs. Whether it’s building scalable e -commerce platforms, \\nimplementing enterprise resource planning systems, or creating dat a-driven analytics dashboards, \\nwe are committed to delivering exceptional results.  \\nUser Research and Analysis  \\nWeb Design and Development  \\nWireframing and Prototyping  \\nUsability Testing & Optimization  \\nVisual Design and Branding  \\nAccessibility and Inclusivity  \\nMobile Application UI/UX  \\nUI/UX Consultation & Ideas  \\nGraphic Design  \\nGraphic Design  \\nRapidsAI  > Graphic Design  \\nWeb and mobile UI/UX design  \\nRapidsAI delivers responsive web design, adaptive mobile design, and user -friendly \\ninterfaces to maximize users’ satisfaction.  \\nApp and website redesign  \\nOur specialists craft designs that emphasize accessibility and performance through \\nintuitive interfaces, engaging user journeys, and well -researched UX.  \\nUI/UX design research  \\nRapidsAI provides you with personalized research to bring concise answers to your \\nquestions about UI/UX for your specific web or mobile solution.  '),\n",
       " Document(metadata={'source': 'Rapids_AI_Text_data.pdf', 'page': 19}, page_content='Graphic Design  \\nThe RapidsAI team provides you with top -notch Graphic Design Services that deliver \\nvisually stunning and impactful designs to enhance your brand’s identity.  \\nWhat We Do  \\nOur Featured Services  \\nWith a deep understanding of industry -specific challenges, RapidsAI provides tailored \\nsoftware solutions that address your unique needs. Whether it’s building scalable e -\\ncommerce platforms, implementing enterprise resource planning systems, or creating \\ndata-driven analytics dashboards, we are committed to delivering exceptional results.  \\nWeb Design  \\nDesign Research  \\nMobile Design  \\nDesign Concepts  \\nUI/UX  \\n3D Visualization  \\n3D Animation  \\nPhotogrammetry  \\nLogo Design  \\nRapidsAI  > Logo Design  \\nWeb and mobile UI/UX design  \\nRapidsAI delivers responsive web design, adaptive mobile design, and user -friendly \\ninterfaces to maximize users’ satisfaction.  \\nApp and website redesign  \\nOur specialists craft designs that emphasize accessibility and performance through \\nintuitive interfaces, engaging user journeys, and well -researched UX.  \\nUI/UX design research  \\nRapidsAI provides you with personalized research to bring concise answers to your \\nquestions about UI/UX for your specific web or mobile solution.  \\nGraphic Design  '),\n",
       " Document(metadata={'source': 'Rapids_AI_Text_data.pdf', 'page': 20}, page_content='The RapidsAI team provides you with top -notch Graphic Design Services that deliver \\nvisually stunning and impactful designs to enhance your brand’s identity.  \\nWhat We Do  \\nOur Featured Services  \\nWith a deep understanding of industry -specific challenges, RapidsAI provides tailored \\nsoftware solutions that address your unique needs. Whether it’s building scalable e -\\ncommerce platforms, implementing enterprise resource planning systems, or creating \\ndata-driven analytics dashboards, we are committed to delivering exceptional results.  \\nWeb Design  \\nDesign Research  \\nMobile Design  \\nDesign Concepts  \\nUI/UX  \\n3D Visualization  \\n3D Animation  \\nPhotogrammetry  \\nPackaging & Branding  \\nRapidsAI  > Packaging & Branding  \\nWeb and mobile UI/UX design  \\nRapidsAI delivers responsive web design, adaptive mobile design, and user -friendly \\ninterfaces to maximize users’ satisfaction.  \\nApp and website redesign  \\nOur specialists craft designs that emphasize accessibility and performance through \\nintuitive interfaces, engaging user journeys, and well -researched UX.  \\nUI/UX design research  \\nRapidsAI provides you with personalized research to bring concise answers to your \\nquestions about UI/UX for your specific web or mobile solution.  \\nGraphic Design  \\nThe RapidsAI team provides you with top -notch Graphic Design Services that deliver \\nvisually stunning and impactful designs to enhance your brand’s identity.  '),\n",
       " Document(metadata={'source': 'Rapids_AI_Text_data.pdf', 'page': 21}, page_content='What We Do  \\nOur Featured Services  \\nWith a deep understanding of industry -specific challenges, RapidsAI provides tailored \\nsoftware solutions that address your unique needs. Whether it’s building scalable e -\\ncommerce platforms, implementing enterprise resource planning systems, or creating \\ndata-driven analytics dashboards, we are committed to delivering exceptional results.  \\nWeb Design  \\nDesign Research  \\nMobile Design  \\nDesign Concepts  \\nUI/UX  \\n3D Visualization  \\n3D Animation  \\nPhotogrammetry  \\n3d Modeling  \\nRapidsAI  > 3d Modeling  \\nWeb and mobile UI/UX design  \\nRapidsAI delivers responsive web design, adaptive mobile design, and user -friendly \\ninterfaces to maximize users’ satisfaction.  \\nApp and website redesign  \\nOur specialists craft designs that emphasize accessibility and performance through \\nintuitive interfaces, engaging user journeys, and well -researched UX.  \\nUI/UX design research  \\nRapidsAI provides you with personalized research to bring concise answers to your \\nquestions about UI/UX for your specific web or mobile solution.  \\nGraphic Design  \\nThe RapidsAI team provides you with top -notch Graphic Design Services that deliver \\nvisually stunning and impactful designs to enhance your brand’s identity.  \\nWhat We Do  '),\n",
       " Document(metadata={'source': 'Rapids_AI_Text_data.pdf', 'page': 22}, page_content='Our Featured Services  \\nWith a deep understanding of industry -specific challenges, RapidsAI provides tailored \\nsoftware solutions that address your unique needs. Whether it’s building scalable e -\\ncommerce platforms, implementing enterprise resource planning systems, or creating \\ndata-driven analytics dashboards, we are committed to delivering exceptional results.  \\nWeb Design  \\nDesign Research  \\nMobile Design  \\nDesign Concepts  \\nUI/UX  \\n3D Visualization  \\n3D Animation  \\nPhotogrammetry  \\nProjects  \\nRapidsAI > Projects  \\n17 \\nStory Character Generation  \\n18 \\nCensorship of Profanities  \\nTranslation -Whisper  \\nMultilingual Audio -Visual Translation  \\nBrandDevice  \\nBrand and Product Detection  \\nPortfolio_Upwork (1)  \\nSmart Driving Assistant  \\nlogo  \\nLogo Detection  \\nNudityDet_Portfolio_Upwork (3)  '),\n",
       " Document(metadata={'source': 'Rapids_AI_Text_data.pdf', 'page': 23}, page_content='Real -Time Explicit Content Detection with Dynamic Blurring  \\n12 \\nInappropriate Gesture Detection  \\n5 \\nClothes Type Detection  \\n1 \\nGender Classification  \\n6 \\nLogo Detection  \\n2 \\nEchocardiography Segmentation  \\n5 \\nClothes Type Detection  \\n1 \\nGender Classification  \\n6 \\nLogo Detection  \\n2 \\nEchocardiography Segmentation  \\n9-2 \\nTravel Agency Website  \\n1-3 \\nWoo Commerce Application  \\n2-4 \\nReview Fox  \\n3 \\nKalim Website  '),\n",
       " Document(metadata={'source': 'Rapids_AI_Text_data.pdf', 'page': 24}, page_content='5 \\nTA Maison  \\n4 \\nONEXTE  \\n7 \\nOmega  \\n6 \\nEmpower  \\nAbout  \\nRapidsAI  > About  \\n \\nAbout Us  \\nWe create innovative AI solutions for diverse industries.  \\nWelcome to RapidsAI! We are a dynamic team specializing in computer vision, artificial \\nintelligence, and machine learning based software development. With our expertise and \\npassion for cutting -edge technologies, we deliver innovative solutions tailored to meet \\nyour unique business needs. Trust us to transform your ideas into reality.  \\n• Machine Learning  \\n• Deep Learning  \\n• Artificial Intelligence  \\n• Language Processing  \\n• Computer Vision  \\n• Frontend Development  \\n• Backend Development  \\n• UI/UX Design  \\nMission and Vision  \\nVision  '),\n",
       " Document(metadata={'source': 'Rapids_AI_Text_data.pdf', 'page': 25}, page_content='Our company’s vision encompasses the advancement of global development on a \\nsignificant scale.  \\nMission  \\nWe collaborate with clients to develop software solutions that contribute to making the \\nworld a better place.  \\nValues  \\nWe excel at what we love, taking pride in our evolving team while achieving results through \\nflexible and open collaboration.  \\nChallenges we help to solve  \\nIT expertise gap  \\nWe bridge expertise and technological gaps for our customers by offering experienced \\nteams of IT professionals to successfully complete software development projects of any \\ncomplexity.  \\nCost reduction  \\nRapidsai Group offers comprehensive global IT outsourcing, optimizing software \\ndevelopment costs worldwide. With expertise in turnkey projects, we deliver the benefits \\nof outsourcing.  \\nDigital transformation  \\nRapidsai Group: Your trusted partner for comprehensive digital transformation solutions, \\nenabling businesses to unlock their full growth potential with unwavering commitment and \\nexpertise.  \\nBoard of Directors  \\nBoard of Directors  \\n \\nFaisal Imran  \\nCo Founder & CEO  \\n \\nRao Umair Waheed  \\nCo Founder & Managing Director  \\n '),\n",
       " Document(metadata={'source': 'Rapids_AI_Text_data.pdf', 'page': 26}, page_content='Abdul Mannan  \\nCo Founder & CTO  \\n \\nTeam  \\nRapidsAI  > Team  \\nBoard of Directors  \\n \\nFaisal Imran  \\nCo Founder & CEO  \\n \\nRao Umair Waheed  \\nCo Founder & Managing Director  \\n \\nAbdul Mannan  \\nCo Founder & CTO  \\nAdvisory Board  \\n \\nDarwn Gafori  \\nBusiness Strategy Advisor  \\n \\nDr. M. Tariq Saeed  \\nTechnical Advisor  \\n \\nEngr. Muhammad Usman  \\nIT Infrastructure Advisor  \\n \\nDr Eng. Huschyar Al -Kaidy  '),\n",
       " Document(metadata={'source': 'Rapids_AI_Text_data.pdf', 'page': 27}, page_content='Biotech Advisor  \\nMeet Our Amazing Team  \\n \\nOmair Munir  \\nSr. Full Stack Engineer  \\n \\nM. Hasnat Manzoor  \\nSr. Android Developer  \\n \\nMahad Khaliq  \\nMachine Learning Engineer  \\n \\nAlishba Tahir  \\nMachine Learning Engineer  \\n \\nMuhammad Haroon  \\nNLP Engineer  \\n \\nArslan Amin  \\nData Scientist  \\n \\nBalaj Ali  \\nFull Stack Engineer  \\n \\nAhmad Waqas Nasir  \\nFull Stack Engineer  \\n '),\n",
       " Document(metadata={'source': 'Rapids_AI_Text_data.pdf', 'page': 28}, page_content='Amna Ejaz  \\nMachine Learning Researcher  \\n \\nNaima Kiani  \\nDesign Manager  \\n \\nRejja Irfan  \\nVisual Designer  \\n \\nZainab Ejaz  \\nUI/UX Designer  \\n \\nMahnoor Basit  \\nBioinformatician  \\n \\nAhmad Nabeel  \\nJr. Machine Learning Engineer  \\n \\nAmna Riaz  \\nJr. UI/UX Designer  \\n \\nTaimoor Hassan  \\nPython Intern  \\n \\nContact  \\nRapidsAI  > Contact  \\nAddress  '),\n",
       " Document(metadata={'source': 'Rapids_AI_Text_data.pdf', 'page': 29}, page_content='7901 4th St N # 21891 St. Petersburg, FL 33702  \\nPhone  \\n+1 (786) 884 -9033  \\nEmail Us  \\ncontact@rapidsai.com  \\ninfo@rapidsai.com  \\n \\n \\n \\n ')]"
      ]
     },
     "execution_count": 3,
     "metadata": {},
     "output_type": "execute_result"
    }
   ],
   "source": [
    "data"
   ]
  },
  {
   "cell_type": "code",
   "execution_count": 4,
   "id": "8cf725e4-0cc3-45bc-9f83-7aed2ced28f4",
   "metadata": {},
   "outputs": [
    {
     "data": {
      "text/plain": [
       "30"
      ]
     },
     "execution_count": 4,
     "metadata": {},
     "output_type": "execute_result"
    }
   ],
   "source": [
    "len(data)"
   ]
  },
  {
   "cell_type": "code",
   "execution_count": 5,
   "id": "41ed1014-8d49-4df9-a3d2-f09ea9c85bc3",
   "metadata": {},
   "outputs": [
    {
     "name": "stdout",
     "output_type": "stream",
     "text": [
      "Total number of documents:  53\n"
     ]
    }
   ],
   "source": [
    "from langchain.text_splitter import RecursiveCharacterTextSplitter\n",
    "\n",
    "# split data\n",
    "text_splitter = RecursiveCharacterTextSplitter(chunk_size=1000)\n",
    "docs = text_splitter.split_documents(data)\n",
    "\n",
    "\n",
    "print(\"Total number of documents: \",len(docs))"
   ]
  },
  {
   "cell_type": "code",
   "execution_count": 7,
   "id": "735a3df2-6528-479d-b098-f57194320b0b",
   "metadata": {},
   "outputs": [
    {
     "data": {
      "text/plain": [
       "Document(metadata={'source': 'Rapids_AI_Text_data.pdf', 'page': 0}, page_content='Our ML solutions encompass a wide range of applications, including natural language processing \\n(NLP). By using advanced algorithms and data analysis, we develop intelligent systems to interpret \\ntextual data, enabling tasks such as sentiment analysis, langu age translation, and chatbot \\ndevelopment.  \\nFrom sentiment analysis to text classification, our NLP solutions enhance decision -making and \\nenable intelligent data processing. We empower organizations to gain a deeper understanding of \\ntheir data, improve decision -making, and deliver enhanced user expe riences.  \\nMachine Learning  \\nBioinformatics  \\nMachine learning in bioinformatics is revolutionizing the field of life sciences by enabling advanced \\nanalysis of biological data. Our expertise lies in developing ML models and algorithms tailored for \\nbioinformatics applications, such as genomic data anal ysis, protein structure prediction, drug \\nresponse prediction, and disease diagnosis.')"
      ]
     },
     "execution_count": 7,
     "metadata": {},
     "output_type": "execute_result"
    }
   ],
   "source": [
    "docs[1]"
   ]
  },
  {
   "cell_type": "code",
   "execution_count": 8,
   "id": "287413cf-05e8-40c9-9848-b80667d47041",
   "metadata": {},
   "outputs": [
    {
     "name": "stderr",
     "output_type": "stream",
     "text": [
      "C:\\Users\\The One\\anaconda3\\envs\\env_langchian\\lib\\site-packages\\tqdm\\auto.py:21: TqdmWarning: IProgress not found. Please update jupyter and ipywidgets. See https://ipywidgets.readthedocs.io/en/stable/user_install.html\n",
      "  from .autonotebook import tqdm as notebook_tqdm\n"
     ]
    },
    {
     "data": {
      "text/plain": [
       "[0.06442474573850632,\n",
       " -0.07610521465539932,\n",
       " -0.013498559594154358,\n",
       " -0.017090842127799988,\n",
       " 0.03803476318717003]"
      ]
     },
     "execution_count": 8,
     "metadata": {},
     "output_type": "execute_result"
    }
   ],
   "source": [
    "from langchain_chroma import Chroma\n",
    "from langchain_google_genai import GoogleGenerativeAIEmbeddings\n",
    "\n",
    "from dotenv import load_dotenv\n",
    "load_dotenv() \n",
    "\n",
    "#Create Embeddings\n",
    "embeddings = GoogleGenerativeAIEmbeddings(model=\"models/embedding-001\")\n",
    "vector = embeddings.embed_query(\"This is RapidsAI Chat-Bot\")\n",
    "vector[:5]"
   ]
  },
  {
   "cell_type": "code",
   "execution_count": 10,
   "id": "74c696c6-d1ad-49ba-b2da-40c15522c3ed",
   "metadata": {},
   "outputs": [],
   "source": [
    "#Store in Chroma DB\n",
    "vectorstore = Chroma.from_documents(documents=docs, embedding=GoogleGenerativeAIEmbeddings(model=\"models/embedding-001\"))"
   ]
  },
  {
   "cell_type": "code",
   "execution_count": 11,
   "id": "dce4f2f3-abb5-46ba-9c72-af26d52b731b",
   "metadata": {},
   "outputs": [],
   "source": [
    "retriever = vectorstore.as_retriever(search_type=\"similarity\", search_kwargs={\"k\": 10})\n",
    "\n",
    "retrieved_docs = retriever.invoke(\"which type of services provide RapidsAI\")"
   ]
  },
  {
   "cell_type": "code",
   "execution_count": 12,
   "id": "f6c43d50-e27a-4865-95df-7c16db31ebca",
   "metadata": {},
   "outputs": [
    {
     "data": {
      "text/plain": [
       "10"
      ]
     },
     "execution_count": 12,
     "metadata": {},
     "output_type": "execute_result"
    }
   ],
   "source": [
    "len(retrieved_docs)"
   ]
  },
  {
   "cell_type": "code",
   "execution_count": 16,
   "id": "d7b8da20-3092-4c81-ac0b-91f027259a5f",
   "metadata": {},
   "outputs": [
    {
     "name": "stdout",
     "output_type": "stream",
     "text": [
      "page_content='Our Featured Services  \n",
      "With a deep understanding of industry -specific challenges, RapidsAI provides tailored \n",
      "software solutions that address your unique needs. Whether it’s building scalable e -\n",
      "commerce platforms, implementing enterprise resource planning systems, or creating \n",
      "data-driven analytics dashboards, we are committed to delivering exceptional results.  \n",
      "Web Design  \n",
      "Design Research  \n",
      "Mobile Design  \n",
      "Design Concepts  \n",
      "UI/UX  \n",
      "3D Visualization  \n",
      "3D Animation  \n",
      "Photogrammetry  \n",
      "Projects  \n",
      "RapidsAI > Projects  \n",
      "17 \n",
      "Story Character Generation  \n",
      "18 \n",
      "Censorship of Profanities  \n",
      "Translation -Whisper  \n",
      "Multilingual Audio -Visual Translation  \n",
      "BrandDevice  \n",
      "Brand and Product Detection  \n",
      "Portfolio_Upwork (1)  \n",
      "Smart Driving Assistant  \n",
      "logo  \n",
      "Logo Detection  \n",
      "NudityDet_Portfolio_Upwork (3)' metadata={'page': 22, 'source': 'Rapids_AI_Text_data.pdf'}\n"
     ]
    }
   ],
   "source": [
    "print(retrieved_docs[4])"
   ]
  },
  {
   "cell_type": "code",
   "execution_count": 17,
   "id": "96cff11d-faf3-4718-a5e9-011b4c45548e",
   "metadata": {},
   "outputs": [],
   "source": [
    "from langchain_google_genai import ChatGoogleGenerativeAI\n",
    "\n",
    "llm = ChatGoogleGenerativeAI(model=\"gemini-1.5-pro\",temperature=0.3, max_tokens=500)"
   ]
  },
  {
   "cell_type": "code",
   "execution_count": 18,
   "id": "95a179ed-7a46-4635-9fda-04ab3504ebd9",
   "metadata": {},
   "outputs": [],
   "source": [
    "from langchain.chains import create_retrieval_chain\n",
    "from langchain.chains.combine_documents import create_stuff_documents_chain\n",
    "from langchain_core.prompts import ChatPromptTemplate\n",
    "\n",
    "system_prompt = (\n",
    "    \"You are an assistant for question-answering tasks. \"\n",
    "    \"Use the following pieces of retrieved context to answer \"\n",
    "    \"the question. If you don't know the answer, say that you \"\n",
    "    \"don't know. Use three sentences maximum and keep the \"\n",
    "    \"answer concise.\"\n",
    "    \"\\n\\n\"\n",
    "    \"{context}\"\n",
    ")\n",
    "\n",
    "prompt = ChatPromptTemplate.from_messages(\n",
    "    [\n",
    "        (\"system\", system_prompt),\n",
    "        (\"human\", \"{input}\"),\n",
    "    ]\n",
    ")"
   ]
  },
  {
   "cell_type": "code",
   "execution_count": 19,
   "id": "bbdea1d2-cfa5-415f-8eb9-fc6330757a94",
   "metadata": {},
   "outputs": [],
   "source": [
    "question_answer_chain = create_stuff_documents_chain(llm, prompt)\n",
    "rag_chain = create_retrieval_chain(retriever, question_answer_chain)"
   ]
  },
  {
   "cell_type": "code",
   "execution_count": 22,
   "id": "59cc23a0-6ca2-4f70-8c1a-d49f0a4d736b",
   "metadata": {},
   "outputs": [
    {
     "name": "stdout",
     "output_type": "stream",
     "text": [
      "This document does not contain client reviews for RapidsAI. Therefore, I cannot answer your question. This document provides information about the services offered by RapidsAI. \n",
      "\n"
     ]
    }
   ],
   "source": [
    "response = rag_chain.invoke({\"input\": \"what are the client reviews about rapidsai\"})\n",
    "print(response[\"answer\"])"
   ]
  },
  {
   "cell_type": "code",
   "execution_count": null,
   "id": "9add41a7-4ee7-48ab-9951-034951ff834a",
   "metadata": {},
   "outputs": [],
   "source": []
  }
 ],
 "metadata": {
  "kernelspec": {
   "display_name": "env_langchain",
   "language": "python",
   "name": "env_langchian"
  },
  "language_info": {
   "codemirror_mode": {
    "name": "ipython",
    "version": 3
   },
   "file_extension": ".py",
   "mimetype": "text/x-python",
   "name": "python",
   "nbconvert_exporter": "python",
   "pygments_lexer": "ipython3",
   "version": "3.10.15"
  }
 },
 "nbformat": 4,
 "nbformat_minor": 5
}
